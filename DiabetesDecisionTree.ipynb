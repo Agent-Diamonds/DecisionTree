{
 "cells": [
  {
   "cell_type": "code",
   "execution_count": 1,
   "id": "5ddfcc72",
   "metadata": {},
   "outputs": [],
   "source": [
    "##import necessary libraries\n",
    "import numpy as np\n",
    "import pandas as pd\n",
    "import time"
   ]
  },
  {
   "cell_type": "code",
   "execution_count": 2,
   "id": "8b449d59",
   "metadata": {},
   "outputs": [],
   "source": [
    "#define a node class\n",
    "class Node():\n",
    "    def __init__(self, depth):\n",
    "        self.leftChild = None\n",
    "        self.rightChild = None\n",
    "        self.giniSplitValue = None\n",
    "        self.nodeGini = None\n",
    "        self.cutoffValue = None\n",
    "        self.cutoffLabel = None\n",
    "        self.isLeaf = True\n",
    "        self.depth = depth\n",
    "        self.positives = 0\n",
    "        self.negatives = 0\n",
    "        \n",
    "    #Takes in a series and returns a list of all the midpoints between each continuous data value\n",
    "    def getListofMidpointsFromContinuousSeries(self, series):\n",
    "        sortedSeries = series.sort_values()\n",
    "        prevValue = sortedSeries.iloc[0]\n",
    "        cutoffValues = []        \n",
    "        # Get a list of the middle values between all unique data points\n",
    "        for value in sortedSeries:\n",
    "            # Just a check to see if the values are different \n",
    "            #so we don't calculate a ton of gini criterion options\n",
    "            if value == prevValue:\n",
    "                continue\n",
    "            else:\n",
    "                cutoffValues.append((value + prevValue)/2)\n",
    "                prevValue = value\n",
    "        return cutoffValues\n",
    "    \n",
    "    #Takes in a dataframe and label and calculates the gini coefficient for the continuous data represented by said label\n",
    "    def calculateGiniForSingleContinuousLabel(self, df, label, classLabel):        \n",
    "        cutoffValues = self.getListofMidpointsFromContinuousSeries(df[label])\n",
    "        # Calulate gini coeff for each potential split\n",
    "        weightedGiniCoeffs = {}\n",
    "        for value in cutoffValues:\n",
    "            leftChildPositiveCount = df[(df[label] <= value) & (df[classLabel] == 1)][label].count()\n",
    "            rightChildPositiveCount = df[(df[label] > value) & (df[classLabel] == 1)][label].count()\n",
    "            leftChildNegativeCount = df[(df[label] <= value) & (df[classLabel] == 0)][label].count()\n",
    "            rightChildNegativeCount = df[(df[label] > value) & (df[classLabel] == 0)][label].count()\n",
    "            leftTotal = leftChildPositiveCount + leftChildNegativeCount\n",
    "            rightTotal = rightChildPositiveCount + rightChildNegativeCount\n",
    "            giniLeft = 1 - (leftChildPositiveCount / leftTotal)**2 - (leftChildNegativeCount / leftTotal)**2\n",
    "            giniRight = 1 - (rightChildPositiveCount / rightTotal)**2 - (rightChildNegativeCount / rightTotal)**2\n",
    "            weightedGini = leftTotal/len(df) * giniLeft + rightTotal/len(df) * giniRight\n",
    "            weightedGiniCoeffs[value] = weightedGini\n",
    "            minGiniKey = min(weightedGiniCoeffs, key=weightedGiniCoeffs.get)\n",
    "        if weightedGiniCoeffs == {}:\n",
    "            return None\n",
    "        else:\n",
    "            return  (minGiniKey , weightedGiniCoeffs[minGiniKey])\n",
    "    \n",
    "    # Causes a node to calculate the gini coefficient for a best split for a given data frame\n",
    "    # This populates most of the node's instance values\n",
    "    def fitNode(self, df, classLabel):\n",
    "        labels = list(df.columns)\n",
    "        labels.remove(classLabel)\n",
    "        giniCoeffs = {}\n",
    "        for label in labels:\n",
    "            #This is a dict of labels : tuples where the tuple is (split value, gini coeff)\n",
    "            giniCoeffForLabel = self.calculateGiniForSingleContinuousLabel(df, label, classLabel)\n",
    "            if giniCoeffForLabel is not None:\n",
    "                giniCoeffs[label] = giniCoeffForLabel\n",
    "        #Start with the first label in the list to find the min\n",
    "        minGiniCoeffLabel = list(giniCoeffs.keys())[0]\n",
    "        #The coefficient value is the second value in the tuple. The tuple is a value corresponding to said key\n",
    "        minGiniCoeffValue = giniCoeffs[minGiniCoeffLabel][1]\n",
    "        for label in giniCoeffs.keys():\n",
    "            if giniCoeffs[label][1] <  minGiniCoeffValue:\n",
    "                minGiniCoeffValue = giniCoeffs[label][1]\n",
    "                minGiniCoeffLabel = label\n",
    "        self.giniSplitValue = giniCoeffs[minGiniCoeffLabel][1]\n",
    "        self.cutoffValue = giniCoeffs[minGiniCoeffLabel][0]\n",
    "        self.cutoffLabel = minGiniCoeffLabel\n",
    "    \n",
    "    # Assigns the number of positives and negatives in a given node\n",
    "    # Later we use this data to determine if an additional split is needed\n",
    "    def assignCounts(self, df, classLabel):\n",
    "        self.positives = len(df[df[classLabel] == 1])\n",
    "        self.negatives = len(df[df[classLabel] == 0])\n",
    "        self.nodeGini = 1 - (self.positives/(self.positives + self.negatives))**2 - (self.negatives/(self.positives + self.negatives))**2\n",
    "    \n",
    "    #Takes in a row of data (labels should match those that the tree was built with)\n",
    "    #Returns a classification (1 for positive, zero for negative) for said row\n",
    "    def classifyRow(self, row):\n",
    "        if self.isLeaf == True:\n",
    "            if self.positives >= self.negatives:\n",
    "                return 1\n",
    "            else:\n",
    "                return 0\n",
    "        else:\n",
    "            if row[self.cutoffLabel] <= self.cutoffValue:\n",
    "                return self.leftChild.classifyRow(row)\n",
    "            else:\n",
    "                return self.rightChild.classifyRow(row)\n",
    "        "
   ]
  },
  {
   "cell_type": "code",
   "execution_count": 3,
   "id": "5ed94dd7",
   "metadata": {},
   "outputs": [],
   "source": [
    "#Define a Decision tree class\n",
    "class DTree():\n",
    "    def __init__(self, maxDepth=500):\n",
    "        if (maxDepth < 1):\n",
    "            raise Exception(\"Max Tree depth must be >= 1\")\n",
    "        self.root = Node(depth=0)\n",
    "        self.maxDepth = maxDepth\n",
    "    \n",
    "    # Fits each node in the tree recursively based on a given dataframe and corresponding class label\n",
    "    def fit(self, df, classLabel):\n",
    "        self.recursiveFit(df, classLabel, self.root)\n",
    "    \n",
    "    # Fits each node in the tree recursively based on a given dataframe and corresponding class label\n",
    "    def recursiveFit(self, df, classLabel, node):\n",
    "        node.assignCounts(df, classLabel)\n",
    "        # max recursion depth reached\n",
    "        if node.depth >= self.maxDepth:\n",
    "            return\n",
    "        #Node is already pure or not enough points to split on\n",
    "        if node.positives == 0 or node.negatives == 0 or node.positives + node.negatives < 2:\n",
    "            node.nodeGini = 0\n",
    "            return\n",
    "        \n",
    "        # If we are not pure and haven't reached the max depth, determine splitting criteria\n",
    "        node.fitNode(df, classLabel)\n",
    "        \n",
    "        #build data frames for next level of recursion\n",
    "        dfLeft = df[df[node.cutoffLabel] <= node.cutoffValue]\n",
    "        dfRight = df[df[node.cutoffLabel] > node.cutoffValue]\n",
    "        \n",
    "        #setup left child\n",
    "        node.leftChild = Node(node.depth + 1)\n",
    "        \n",
    "        #setup right child\n",
    "        node.rightChild = Node(node.depth + 1)\n",
    "        \n",
    "        #recurse\n",
    "        node.isLeaf = False\n",
    "        self.recursiveFit(dfLeft, classLabel, node.leftChild)\n",
    "        self.recursiveFit(dfRight, classLabel, node.rightChild)\n",
    "    \n",
    "    # Give this function a data frame (labels need to be the same as the ones given during training)\n",
    "    # and it will give you a list, equal in length to the data frame, of predictions\n",
    "    def classify(self, df):\n",
    "        predictions = []\n",
    "        for i in range(len(df)):\n",
    "            row = df.iloc[i]\n",
    "            predictions.append(self.root.classifyRow(row))\n",
    "        return predictions\n",
    "            "
   ]
  },
  {
   "cell_type": "code",
   "execution_count": 4,
   "id": "2251a991",
   "metadata": {},
   "outputs": [],
   "source": [
    "#A lazy little function to calculate accuracy off a dataframe given a prediction label and a class label\n",
    "def accuracy(df, classLabel, predictionLabel):\n",
    "    return len(df[df[classLabel] == df[predictionLabel]]) / len(df)"
   ]
  },
  {
   "cell_type": "code",
   "execution_count": 5,
   "id": "88c49450",
   "metadata": {},
   "outputs": [
    {
     "data": {
      "text/html": [
       "<div>\n",
       "<style scoped>\n",
       "    .dataframe tbody tr th:only-of-type {\n",
       "        vertical-align: middle;\n",
       "    }\n",
       "\n",
       "    .dataframe tbody tr th {\n",
       "        vertical-align: top;\n",
       "    }\n",
       "\n",
       "    .dataframe thead th {\n",
       "        text-align: right;\n",
       "    }\n",
       "</style>\n",
       "<table border=\"1\" class=\"dataframe\">\n",
       "  <thead>\n",
       "    <tr style=\"text-align: right;\">\n",
       "      <th></th>\n",
       "      <th>Pregnancies</th>\n",
       "      <th>Glucose</th>\n",
       "      <th>BloodPressure</th>\n",
       "      <th>SkinThickness</th>\n",
       "      <th>Insulin</th>\n",
       "      <th>BMI</th>\n",
       "      <th>DiabetesPedigreeFunction</th>\n",
       "      <th>Age</th>\n",
       "      <th>Outcome</th>\n",
       "    </tr>\n",
       "  </thead>\n",
       "  <tbody>\n",
       "    <tr>\n",
       "      <th>0</th>\n",
       "      <td>6</td>\n",
       "      <td>148</td>\n",
       "      <td>72</td>\n",
       "      <td>35</td>\n",
       "      <td>0</td>\n",
       "      <td>33.6</td>\n",
       "      <td>0.627</td>\n",
       "      <td>50</td>\n",
       "      <td>1</td>\n",
       "    </tr>\n",
       "    <tr>\n",
       "      <th>1</th>\n",
       "      <td>1</td>\n",
       "      <td>85</td>\n",
       "      <td>66</td>\n",
       "      <td>29</td>\n",
       "      <td>0</td>\n",
       "      <td>26.6</td>\n",
       "      <td>0.351</td>\n",
       "      <td>31</td>\n",
       "      <td>0</td>\n",
       "    </tr>\n",
       "    <tr>\n",
       "      <th>2</th>\n",
       "      <td>8</td>\n",
       "      <td>183</td>\n",
       "      <td>64</td>\n",
       "      <td>0</td>\n",
       "      <td>0</td>\n",
       "      <td>23.3</td>\n",
       "      <td>0.672</td>\n",
       "      <td>32</td>\n",
       "      <td>1</td>\n",
       "    </tr>\n",
       "    <tr>\n",
       "      <th>3</th>\n",
       "      <td>1</td>\n",
       "      <td>89</td>\n",
       "      <td>66</td>\n",
       "      <td>23</td>\n",
       "      <td>94</td>\n",
       "      <td>28.1</td>\n",
       "      <td>0.167</td>\n",
       "      <td>21</td>\n",
       "      <td>0</td>\n",
       "    </tr>\n",
       "    <tr>\n",
       "      <th>4</th>\n",
       "      <td>0</td>\n",
       "      <td>137</td>\n",
       "      <td>40</td>\n",
       "      <td>35</td>\n",
       "      <td>168</td>\n",
       "      <td>43.1</td>\n",
       "      <td>2.288</td>\n",
       "      <td>33</td>\n",
       "      <td>1</td>\n",
       "    </tr>\n",
       "  </tbody>\n",
       "</table>\n",
       "</div>"
      ],
      "text/plain": [
       "   Pregnancies  Glucose  BloodPressure  SkinThickness  Insulin   BMI  \\\n",
       "0            6      148             72             35        0  33.6   \n",
       "1            1       85             66             29        0  26.6   \n",
       "2            8      183             64              0        0  23.3   \n",
       "3            1       89             66             23       94  28.1   \n",
       "4            0      137             40             35      168  43.1   \n",
       "\n",
       "   DiabetesPedigreeFunction  Age  Outcome  \n",
       "0                     0.627   50        1  \n",
       "1                     0.351   31        0  \n",
       "2                     0.672   32        1  \n",
       "3                     0.167   21        0  \n",
       "4                     2.288   33        1  "
      ]
     },
     "execution_count": 5,
     "metadata": {},
     "output_type": "execute_result"
    }
   ],
   "source": [
    "#Get the diabetes data set to work with\n",
    "df = pd.read_csv(\"diabetes.csv\")\n",
    "df.head()"
   ]
  },
  {
   "cell_type": "code",
   "execution_count": 6,
   "id": "ecd74cbe",
   "metadata": {},
   "outputs": [
    {
     "data": {
      "text/plain": [
       "Pregnancies                 0\n",
       "Glucose                     0\n",
       "BloodPressure               0\n",
       "SkinThickness               0\n",
       "Insulin                     0\n",
       "BMI                         0\n",
       "DiabetesPedigreeFunction    0\n",
       "Age                         0\n",
       "Outcome                     0\n",
       "dtype: int64"
      ]
     },
     "execution_count": 6,
     "metadata": {},
     "output_type": "execute_result"
    }
   ],
   "source": [
    "df.isna().sum() #checking for any NA values"
   ]
  },
  {
   "cell_type": "code",
   "execution_count": 7,
   "id": "d31ed135",
   "metadata": {},
   "outputs": [
    {
     "data": {
      "text/plain": [
       "Pregnancies                   int64\n",
       "Glucose                       int64\n",
       "BloodPressure                 int64\n",
       "SkinThickness                 int64\n",
       "Insulin                       int64\n",
       "BMI                         float64\n",
       "DiabetesPedigreeFunction    float64\n",
       "Age                           int64\n",
       "Outcome                       int64\n",
       "dtype: object"
      ]
     },
     "execution_count": 7,
     "metadata": {},
     "output_type": "execute_result"
    }
   ],
   "source": [
    "df.dtypes #checking dtypes"
   ]
  },
  {
   "cell_type": "code",
   "execution_count": 8,
   "id": "a6261e2b",
   "metadata": {},
   "outputs": [
    {
     "name": "stdout",
     "output_type": "stream",
     "text": [
      "time: 11.368341445922852 seconds\n"
     ]
    }
   ],
   "source": [
    "#Build a testTree with no max depth, time it just for fun\n",
    "start = time.time()\n",
    "testTree = DTree()\n",
    "testTree.fit(df, \"Outcome\")\n",
    "end = time.time()\n",
    "elapsed_time = end - start\n",
    "print(\"time:\", elapsed_time, 'seconds')"
   ]
  },
  {
   "cell_type": "code",
   "execution_count": 9,
   "id": "ae7d2975",
   "metadata": {},
   "outputs": [],
   "source": [
    "#Test the predictions on the training data\n",
    "df['predictions'] = testTree.classify(df)"
   ]
  },
  {
   "cell_type": "code",
   "execution_count": 10,
   "id": "672ed247",
   "metadata": {},
   "outputs": [
    {
     "data": {
      "text/plain": [
       "1.0"
      ]
     },
     "execution_count": 10,
     "metadata": {},
     "output_type": "execute_result"
    }
   ],
   "source": [
    "# We expect this should be 100% accurate\n",
    "accuracy(df, \"Outcome\", \"predictions\")"
   ]
  },
  {
   "cell_type": "code",
   "execution_count": 11,
   "id": "1f7bcd59",
   "metadata": {},
   "outputs": [
    {
     "name": "stdout",
     "output_type": "stream",
     "text": [
      "0\n",
      "131\n",
      "0\n",
      "2\n"
     ]
    }
   ],
   "source": [
    "#Checking data splits on a couple leaf nodes just to see if they are looking good\n",
    "testNode = testTree.root\n",
    "while testNode.isLeaf ==  False:\n",
    "    testNode = testNode.leftChild\n",
    "print(testNode.positives)\n",
    "print(testNode.negatives)\n",
    "\n",
    "testNode = testTree.root\n",
    "while testNode.isLeaf ==  False:\n",
    "    testNode = testNode.rightChild\n",
    "print(testNode.positives)\n",
    "print(testNode.negatives)"
   ]
  },
  {
   "cell_type": "code",
   "execution_count": 12,
   "id": "f5b6fa3e",
   "metadata": {},
   "outputs": [
    {
     "data": {
      "text/plain": [
       "0.45437282986111116"
      ]
     },
     "execution_count": 12,
     "metadata": {},
     "output_type": "execute_result"
    }
   ],
   "source": [
    "##calculate total data impurity to compare below\n",
    "posCount = len(df[df[\"Outcome\"] == 1])\n",
    "negCount = len(df[df[\"Outcome\"] == 0])\n",
    "1 - (posCount/len(df))**2 - (negCount/len(df))**2"
   ]
  },
  {
   "cell_type": "code",
   "execution_count": 13,
   "id": "72b79d56",
   "metadata": {},
   "outputs": [
    {
     "name": "stdout",
     "output_type": "stream",
     "text": [
      "Glucose\n",
      "127.5\n",
      "0.45437282986111116\n",
      "BMI\n",
      "29.95\n"
     ]
    }
   ],
   "source": [
    "print(testTree.root.cutoffLabel) #split label for root\n",
    "print(testTree.root.cutoffValue) #split value for label\n",
    "print(testTree.root.nodeGini) #Should be about .454, which is the data impurity\n",
    "print(testTree.root.rightChild.cutoffLabel) #split label for right child\n",
    "print(testTree.root.rightChild.cutoffValue) #split value for right child"
   ]
  },
  {
   "cell_type": "code",
   "execution_count": 14,
   "id": "8692727d",
   "metadata": {},
   "outputs": [
    {
     "data": {
      "text/html": [
       "<div>\n",
       "<style scoped>\n",
       "    .dataframe tbody tr th:only-of-type {\n",
       "        vertical-align: middle;\n",
       "    }\n",
       "\n",
       "    .dataframe tbody tr th {\n",
       "        vertical-align: top;\n",
       "    }\n",
       "\n",
       "    .dataframe thead th {\n",
       "        text-align: right;\n",
       "    }\n",
       "</style>\n",
       "<table border=\"1\" class=\"dataframe\">\n",
       "  <thead>\n",
       "    <tr style=\"text-align: right;\">\n",
       "      <th></th>\n",
       "      <th>Pregnancies</th>\n",
       "      <th>Glucose</th>\n",
       "      <th>BloodPressure</th>\n",
       "      <th>SkinThickness</th>\n",
       "      <th>Insulin</th>\n",
       "      <th>BMI</th>\n",
       "      <th>DiabetesPedigreeFunction</th>\n",
       "      <th>Age</th>\n",
       "      <th>Outcome</th>\n",
       "    </tr>\n",
       "  </thead>\n",
       "  <tbody>\n",
       "    <tr>\n",
       "      <th>1</th>\n",
       "      <td>1</td>\n",
       "      <td>85</td>\n",
       "      <td>66</td>\n",
       "      <td>29</td>\n",
       "      <td>0</td>\n",
       "      <td>26.6</td>\n",
       "      <td>0.351</td>\n",
       "      <td>31</td>\n",
       "      <td>0</td>\n",
       "    </tr>\n",
       "    <tr>\n",
       "      <th>2</th>\n",
       "      <td>8</td>\n",
       "      <td>183</td>\n",
       "      <td>64</td>\n",
       "      <td>0</td>\n",
       "      <td>0</td>\n",
       "      <td>23.3</td>\n",
       "      <td>0.672</td>\n",
       "      <td>32</td>\n",
       "      <td>1</td>\n",
       "    </tr>\n",
       "    <tr>\n",
       "      <th>4</th>\n",
       "      <td>0</td>\n",
       "      <td>137</td>\n",
       "      <td>40</td>\n",
       "      <td>35</td>\n",
       "      <td>168</td>\n",
       "      <td>43.1</td>\n",
       "      <td>2.288</td>\n",
       "      <td>33</td>\n",
       "      <td>1</td>\n",
       "    </tr>\n",
       "    <tr>\n",
       "      <th>5</th>\n",
       "      <td>5</td>\n",
       "      <td>116</td>\n",
       "      <td>74</td>\n",
       "      <td>0</td>\n",
       "      <td>0</td>\n",
       "      <td>25.6</td>\n",
       "      <td>0.201</td>\n",
       "      <td>30</td>\n",
       "      <td>0</td>\n",
       "    </tr>\n",
       "    <tr>\n",
       "      <th>6</th>\n",
       "      <td>3</td>\n",
       "      <td>78</td>\n",
       "      <td>50</td>\n",
       "      <td>32</td>\n",
       "      <td>88</td>\n",
       "      <td>31.0</td>\n",
       "      <td>0.248</td>\n",
       "      <td>26</td>\n",
       "      <td>1</td>\n",
       "    </tr>\n",
       "  </tbody>\n",
       "</table>\n",
       "</div>"
      ],
      "text/plain": [
       "   Pregnancies  Glucose  BloodPressure  SkinThickness  Insulin   BMI  \\\n",
       "1            1       85             66             29        0  26.6   \n",
       "2            8      183             64              0        0  23.3   \n",
       "4            0      137             40             35      168  43.1   \n",
       "5            5      116             74              0        0  25.6   \n",
       "6            3       78             50             32       88  31.0   \n",
       "\n",
       "   DiabetesPedigreeFunction  Age  Outcome  \n",
       "1                     0.351   31        0  \n",
       "2                     0.672   32        1  \n",
       "4                     2.288   33        1  \n",
       "5                     0.201   30        0  \n",
       "6                     0.248   26        1  "
      ]
     },
     "execution_count": 14,
     "metadata": {},
     "output_type": "execute_result"
    }
   ],
   "source": [
    "#30% testing data, 70% training data\n",
    "df = df.drop(\"predictions\", axis=1)\n",
    "test = df.sample(frac=0.30, random_state=1)\n",
    "train = df[~df.index.isin(test.index)]\n",
    "train.head()"
   ]
  },
  {
   "cell_type": "code",
   "execution_count": 15,
   "id": "c69e864c",
   "metadata": {},
   "outputs": [
    {
     "data": {
      "text/plain": [
       "0.691304347826087"
      ]
     },
     "execution_count": 15,
     "metadata": {},
     "output_type": "execute_result"
    }
   ],
   "source": [
    "#Accuracy on no depth limit tree\n",
    "realTree = DTree()\n",
    "realTree.fit(train, \"Outcome\")\n",
    "test['Predictions'] = realTree.classify(test)\n",
    "accuracy(test, \"Outcome\", \"Predictions\")"
   ]
  },
  {
   "cell_type": "code",
   "execution_count": 16,
   "id": "d407ed65",
   "metadata": {},
   "outputs": [
    {
     "name": "stdout",
     "output_type": "stream",
     "text": [
      "Glucose\n",
      "129.5\n",
      "0.45007669877420153\n",
      "BMI\n",
      "27.85\n"
     ]
    }
   ],
   "source": [
    "print(realTree.root.cutoffLabel)\n",
    "print(realTree.root.cutoffValue)\n",
    "print(realTree.root.nodeGini)\n",
    "print(realTree.root.rightChild.cutoffLabel)\n",
    "print(realTree.root.rightChild.cutoffValue)\n",
    "#Values seem to match Sklearn example from class, although the split may be different as different methods were used"
   ]
  },
  {
   "cell_type": "code",
   "execution_count": 17,
   "id": "4161c613",
   "metadata": {},
   "outputs": [
    {
     "name": "stdout",
     "output_type": "stream",
     "text": [
      "0.7565217391304347\n",
      "0.7608695652173914\n",
      "0.7608695652173914\n",
      "0.7913043478260869\n",
      "0.7565217391304347\n",
      "0.7391304347826086\n",
      "0.7304347826086957\n",
      "0.7217391304347827\n"
     ]
    }
   ],
   "source": [
    "#does limiting the depth help accuracy?\n",
    "for i in range(1,9):\n",
    "    realTree = DTree(i)\n",
    "    realTree.fit(train, \"Outcome\")\n",
    "    test['Predictions'] = realTree.classify(test)\n",
    "    print(accuracy(test, \"Outcome\", \"Predictions\"))\n",
    "#yes"
   ]
  },
  {
   "cell_type": "markdown",
   "id": "11722549",
   "metadata": {},
   "source": [
    "Looks like a decision tree with a max depth of 4 gives us our best accuracy here at 79.13%. This means we have an error rate of 20.87%"
   ]
  }
 ],
 "metadata": {
  "kernelspec": {
   "display_name": "Python 3 (ipykernel)",
   "language": "python",
   "name": "python3"
  },
  "language_info": {
   "codemirror_mode": {
    "name": "ipython",
    "version": 3
   },
   "file_extension": ".py",
   "mimetype": "text/x-python",
   "name": "python",
   "nbconvert_exporter": "python",
   "pygments_lexer": "ipython3",
   "version": "3.9.12"
  }
 },
 "nbformat": 4,
 "nbformat_minor": 5
}
